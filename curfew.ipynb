{
 "cells": [
  {
   "cell_type": "code",
   "execution_count": 1,
   "metadata": {},
   "outputs": [],
   "source": [
    "import pandas as pd"
   ]
  },
  {
   "cell_type": "code",
   "execution_count": 2,
   "metadata": {},
   "outputs": [],
   "source": [
    "df = pd.read_csv(\"restrictions_daily.csv\").iloc[:, [0, 5, 9]].set_index(\"date\")\n",
    "df = df[df.index.notnull()]\n",
    "\n",
    "values = []\n",
    "date = pd.to_datetime(\"2020-01-27\")\n",
    "\n",
    "while date < pd.to_datetime(\"2020-03-01\"):\n",
    "    values.append([date, 0])\n",
    "    date = date + pd.DateOffset(days = 1)\n",
    "\n",
    "df[\"C\"] = \"\"\n",
    "\n",
    "for index, row in df.iterrows():\n",
    "    element = int(row[0]) ^ int(row[1])\n",
    "    values.append([pd.to_datetime(index), element])\n",
    "\n",
    "date = pd.to_datetime(\"2022-02-01\")\n",
    "\n",
    "while date <= pd.to_datetime(\"2022-07-24\"):\n",
    "    values.append([date, 0])\n",
    "    date = date + pd.DateOffset(days = 1)"
   ]
  },
  {
   "cell_type": "code",
   "execution_count": 3,
   "metadata": {},
   "outputs": [
    {
     "name": "stdout",
     "output_type": "stream",
     "text": [
      "            Curfew\n",
      "Date              \n",
      "2020-01-27       0\n",
      "2020-01-28       0\n",
      "2020-01-29       0\n",
      "2020-01-30       0\n",
      "2020-01-31       0\n",
      "...            ...\n",
      "2022-07-20       0\n",
      "2022-07-21       0\n",
      "2022-07-22       0\n",
      "2022-07-23       0\n",
      "2022-07-24       0\n",
      "\n",
      "[910 rows x 1 columns]\n"
     ]
    }
   ],
   "source": [
    "frame = pd.DataFrame(values).rename(columns={0 : \"Date\", 1 : \"Curfew\"}).set_index(\"Date\")\n",
    "print(frame)"
   ]
  },
  {
   "cell_type": "code",
   "execution_count": 5,
   "metadata": {},
   "outputs": [],
   "source": [
    "frame.to_csv(\"curfew.csv\")"
   ]
  }
 ],
 "metadata": {
  "kernelspec": {
   "display_name": "Python 3.9.7 64-bit",
   "language": "python",
   "name": "python3"
  },
  "language_info": {
   "codemirror_mode": {
    "name": "ipython",
    "version": 3
   },
   "file_extension": ".py",
   "mimetype": "text/x-python",
   "name": "python",
   "nbconvert_exporter": "python",
   "pygments_lexer": "ipython3",
   "version": "3.9.7"
  },
  "orig_nbformat": 4,
  "vscode": {
   "interpreter": {
    "hash": "aee8b7b246df8f9039afb4144a1f6fd8d2ca17a180786b69acc140d282b71a49"
   }
  }
 },
 "nbformat": 4,
 "nbformat_minor": 2
}
